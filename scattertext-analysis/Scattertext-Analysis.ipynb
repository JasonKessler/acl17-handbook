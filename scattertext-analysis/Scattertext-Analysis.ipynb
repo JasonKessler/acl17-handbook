{
 "cells": [
  {
   "cell_type": "code",
   "execution_count": 1,
   "metadata": {},
   "outputs": [
    {
     "data": {
      "text/html": [
       "<style>.container { width:98% !important; }</style>"
      ],
      "text/plain": [
       "<IPython.core.display.HTML object>"
      ]
     },
     "metadata": {},
     "output_type": "display_data"
    }
   ],
   "source": [
    "import pandas as pd\n",
    "import re, time, glob, sys, collections\n",
    "import scattertext as st\n",
    "from IPython.display import IFrame\n",
    "from IPython.core.display import display, HTML\n",
    "import ipywidgets as widgets\n",
    "import seaborn as sns\n",
    "display(HTML(\"<style>.container { width:98% !important; }</style>\"))\n",
    "import spacy\n",
    "import scattertext as st\n",
    "sys.path.append('../scripts/')\n",
    "from paper_info import Paper\n",
    "%matplotlib inline"
   ]
  },
  {
   "cell_type": "code",
   "execution_count": 2,
   "metadata": {
    "collapsed": true
   },
   "outputs": [],
   "source": [
    "def build_data_frame():\n",
    "    data = []\n",
    "    for fn in glob.glob('../data/*/*/final/*/*_metadata.txt'):\n",
    "        paper = Paper(fn)\n",
    "        d = {'abstract':paper.abstract,\n",
    "             'title':paper.escaped_title(),\n",
    "             'n_authors':len(paper.authors)}\n",
    "        for i, author in enumerate(paper.authors):\n",
    "            author_place = ('0' if i < 9 else '') + str(i+1)\n",
    "            d['%s_first_name'%author_place] = author.first\n",
    "            d['%s_last_name'%author_place] = author.last\n",
    "            d['%s_email_domain'%author_place] = author.email.split('@')[1]\n",
    "        d['venue'] = fn.split('/')[2]\n",
    "        d['meta'] = fn.split('/')[2] + ': ' + str(paper)\n",
    "        data.append(d)\n",
    "    return pd.DataFrame(data)\n",
    "df = build_data_frame()"
   ]
  },
  {
   "cell_type": "code",
   "execution_count": 3,
   "metadata": {
    "collapsed": true
   },
   "outputs": [],
   "source": [
    "nlp = spacy.en.English()"
   ]
  },
  {
   "cell_type": "code",
   "execution_count": 4,
   "metadata": {
    "collapsed": true
   },
   "outputs": [],
   "source": [
    "df['parse'] = (df['title'] + '.\\n\\n' + df['abstract']).apply(nlp)"
   ]
  },
  {
   "cell_type": "code",
   "execution_count": 46,
   "metadata": {},
   "outputs": [],
   "source": [
    "for venue in df['venue'].unique():\n",
    "    df['category'] = df['venue'].apply(lambda x: venue if x == venue else 'Other venue')\n",
    "    html = st.produce_scattertext_explorer(st.CorpusFromParsedDocuments(df, category_col='category', parsed_col='parse').build(),\n",
    "                                           category=venue,\n",
    "                                           category_name=venue,\n",
    "                                           not_category_name='All Others',\n",
    "                                           width_in_pixels=1000,\n",
    "                                           minimum_term_frequency=4,\n",
    "                                           pmi_threshold_coefficient=6,\n",
    "                                           metadata=venue_view['meta'])\n",
    "    file_name = venue+'.html'\n",
    "    with open(file_name, 'wb') as fn:\n",
    "        fn.write(html.encode('utf-8'))"
   ]
  },
  {
   "cell_type": "code",
   "execution_count": 62,
   "metadata": {},
   "outputs": [],
   "source": [
    "with open('selector.html', 'w') as fn:\n",
    "    contents = '''\n",
    "<html><body>\n",
    "<h2 style=\"font-family: Helvetica, Arial, Sans-Serif\">See how language use differed among ACL 2017 tracks and workshops</h2>\n",
    "<div style=\"font-family: Helvetica, Arial, Sans-Serif\">\n",
    "For an introduction to language analysis using Scattertext, please see:\n",
    "<ul>\n",
    "<li>The ACL 2017 Demo paper <a href=\"https://arxiv.org/abs/1703.00565\">here</a>.</li>\n",
    "<li>The Youtube video of the 2017 PyData <a href=\"https://www.youtube.com/watch?v=H7X9CA2pWKoa\">talk</a>.</li>\n",
    "<li>Scattertext's Github <a href=\"https://github.com/JasonKessler/scattertext\">repo</a>.</li>\n",
    "<li>The source notebook for this analysis <a href=\"https://github.com/JasonKessler/scattertext\">repo</a>.</li>\n",
    "</ul>\n",
    "Cite as: \n",
    "<pre>Jason S. Kessler. Scattertext: a Browser-Based Tool for Visualizing how Corpora Differ. ACL System Demonstrations. Vancouver, BC. 2017.</pre>\n",
    "</div> \n",
    "<form><select id=selector\" onchange=\"document.getElementById('myiframe').src = this.options[this.selectedIndex].value\">\n",
    "<option>Select a track or workshop:</option>\n",
    "''' + ''.join(['<option value=\"%s.html\">%s</option>\\n'%(venue,venue) for venue in df['venue'].unique()]) + '''\n",
    "</select></form><iframe name=\"myiframe\" id=\"myiframe\" width=1200 height=800 src=\"\"></iframe></body></html>\n",
    "'''\n",
    "    fn.write(contents)"
   ]
  },
  {
   "cell_type": "code",
   "execution_count": 63,
   "metadata": {
    "scrolled": false
   },
   "outputs": [
    {
     "data": {
      "text/html": [
       "<iframe width=100% height=800 name=\"iframe\" src=\"selector.html\"></iframe>"
      ],
      "text/plain": [
       "<IPython.core.display.HTML object>"
      ]
     },
     "metadata": {},
     "output_type": "display_data"
    }
   ],
   "source": [
    "%%HTML\n",
    "<iframe width=100% height=800 name=\"iframe\" src=\"selector.html\"></iframe>"
   ]
  },
  {
   "cell_type": "code",
   "execution_count": null,
   "metadata": {
    "collapsed": true
   },
   "outputs": [],
   "source": []
  }
 ],
 "metadata": {
  "anaconda-cloud": {},
  "kernelspec": {
   "display_name": "Python [Root]",
   "language": "python",
   "name": "Python [Root]"
  },
  "language_info": {
   "codemirror_mode": {
    "name": "ipython",
    "version": 3
   },
   "file_extension": ".py",
   "mimetype": "text/x-python",
   "name": "python",
   "nbconvert_exporter": "python",
   "pygments_lexer": "ipython3",
   "version": "3.5.2"
  }
 },
 "nbformat": 4,
 "nbformat_minor": 2
}
