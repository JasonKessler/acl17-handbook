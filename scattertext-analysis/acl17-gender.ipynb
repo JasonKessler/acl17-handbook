{
 "cells": [
  {
   "cell_type": "markdown",
   "metadata": {},
   "source": [
    "## Gender-characteristic language used in ACL 2017 titles and abstracts\n",
    "### This was created using the tool Scattertext, described in the paper below\n",
    "### Twitter @jasonkessler\n",
    "\n",
    "### Notes\n",
    "* You can install the package using `pip3 install scattertext`, and read the documentation/browse the source at https://github.com/JasonKessler/scattertext\n",
    "* The Youtube video of the 2017 PyData discussing this package is available at https://www.youtube.com/watch?v=H7X9CA2pWKoa\n",
    "* Genders were imputed from names via the AgeFromName Python package, documented at https://github.com/JasonKessler/agefromname\n",
    "\n",
    "Please cite as: \n",
    "\n",
    "Jason S. Kessler. Scattertext: a Browser-Based Tool for Visualizing how Corpora Differ. ACL System Demonstrations. Vancouver, BC. 2017.\n",
    "https://arxiv.org/abs/1703.00565"
   ]
  },
  {
   "cell_type": "code",
   "execution_count": 7,
   "metadata": {},
   "outputs": [
    {
     "data": {
      "text/html": [
       "<style>.container { width:98% !important; }</style>"
      ],
      "text/plain": [
       "<IPython.core.display.HTML object>"
      ]
     },
     "metadata": {},
     "output_type": "display_data"
    }
   ],
   "source": [
    "import pandas as pd\n",
    "import re, time, glob, sys, collections\n",
    "import scattertext as st\n",
    "from IPython.display import IFrame\n",
    "from IPython.core.display import display, HTML\n",
    "import ipywidgets as widgets\n",
    "import seaborn as sns\n",
    "import agefromname\n",
    "display(HTML(\"<style>.container { width:98% !important; }</style>\"))\n",
    "import spacy\n",
    "import scattertext as st\n",
    "sys.path.append('../scripts/')\n",
    "from paper_info import Paper\n",
    "%matplotlib inline"
   ]
  },
  {
   "cell_type": "markdown",
   "metadata": {},
   "source": [
    "## Assemble list of papers and abstracts"
   ]
  },
  {
   "cell_type": "code",
   "execution_count": 2,
   "metadata": {
    "collapsed": true
   },
   "outputs": [],
   "source": [
    "def build_data_frame():\n",
    "    data = []\n",
    "    for fn in glob.glob('../data/*/*/final/*/*_metadata.txt'):\n",
    "        paper = Paper(fn)\n",
    "        d = {'abstract':paper.abstract,\n",
    "             'title':paper.escaped_title(),\n",
    "             'n_authors':len(paper.authors)}\n",
    "        for i, author in enumerate(paper.authors):\n",
    "            author_place = ('0' if i < 9 else '') + str(i+1)\n",
    "            d['%s_first_name'%author_place] = author.first\n",
    "            d['%s_last_name'%author_place] = author.last\n",
    "            d['%s_email_domain'%author_place] = author.email.split('@')[1]\n",
    "        d['venue'] = fn.split('/')[2]\n",
    "        d['meta'] = fn.split('/')[2] + ': ' + str(paper)\n",
    "        data.append(d)\n",
    "    return pd.DataFrame(data)\n",
    "df = build_data_frame()"
   ]
  },
  {
   "cell_type": "code",
   "execution_count": 3,
   "metadata": {
    "collapsed": true
   },
   "outputs": [],
   "source": [
    "nlp = spacy.en.English()"
   ]
  },
  {
   "cell_type": "code",
   "execution_count": 4,
   "metadata": {
    "collapsed": true
   },
   "outputs": [],
   "source": [
    "df['parse'] = (df['title'] + '.\\n\\n' + df['abstract']).apply(nlp)"
   ]
  },
  {
   "cell_type": "markdown",
   "metadata": {},
   "source": [
    "## Record gender of 1st author if P(name|gender) > 0.9"
   ]
  },
  {
   "cell_type": "code",
   "execution_count": 8,
   "metadata": {},
   "outputs": [],
   "source": [
    "male_prob = agefromname.AgeFromName().get_all_name_male_prob()"
   ]
  },
  {
   "cell_type": "code",
   "execution_count": 21,
   "metadata": {
    "collapsed": true
   },
   "outputs": [],
   "source": [
    "df['1st_auth_lower'] = df['01_first_name'].apply(str.lower)\n",
    "df_aug = pd.merge(df, male_prob, left_on='1st_auth_lower', right_index=True)\n",
    "df_aug['gender'] = df_aug['prob'].apply(lambda x: 'm' if x > 0.9 else 'f' if x < 0.1 else '?')\n",
    "df_mf = df_aug[df_aug['gender'].isin(['m', 'f'])]"
   ]
  },
  {
   "cell_type": "code",
   "execution_count": 22,
   "metadata": {},
   "outputs": [
    {
     "data": {
      "text/plain": [
       "m    337\n",
       "f    122\n",
       "Name: gender, dtype: int64"
      ]
     },
     "execution_count": 22,
     "metadata": {},
     "output_type": "execute_result"
    }
   ],
   "source": [
    "df_mf.gender.value_counts()"
   ]
  },
  {
   "cell_type": "code",
   "execution_count": 27,
   "metadata": {},
   "outputs": [
    {
     "name": "stdout",
     "output_type": "stream",
     "text": [
      "Portion of papers labeled w/ gender of first author 0.5730337078651685\n"
     ]
    }
   ],
   "source": [
    "print('Portion of papers labeled w/ gender of first author', len(df_mf)*1./len(df))"
   ]
  },
  {
   "cell_type": "code",
   "execution_count": 33,
   "metadata": {},
   "outputs": [
    {
     "name": "stdout",
     "output_type": "stream",
     "text": [
      "Top first names that could not be assigned a gender w/ p < 0.1\n"
     ]
    },
    {
     "data": {
      "text/plain": [
       "Jan       4\n",
       "Yu        2\n",
       "Chris     2\n",
       "Ye        2\n",
       "Xing      2\n",
       "Nikola    2\n",
       "Chen      2\n",
       "Yang      2\n",
       "Alexis    1\n",
       "Le        1\n",
       "Name: 01_first_name, dtype: int64"
      ]
     },
     "execution_count": 33,
     "metadata": {},
     "output_type": "execute_result"
    }
   ],
   "source": [
    "print('Top first names that could not be assigned a gender w/ p < 0.1')\n",
    "df_aug[df_aug['gender'] == '?']['01_first_name'].value_counts().iloc[:10]"
   ]
  },
  {
   "cell_type": "code",
   "execution_count": 28,
   "metadata": {},
   "outputs": [],
   "source": [
    "gender_corpus = st.CorpusFromParsedDocuments(df_mf, category_col='gender', parsed_col='parse').build()"
   ]
  },
  {
   "cell_type": "code",
   "execution_count": 29,
   "metadata": {
    "scrolled": false
   },
   "outputs": [],
   "source": [
    "html = st.produce_scattertext_explorer(gender_corpus,\n",
    "                                       category='f',\n",
    "                                       category_name='Women',\n",
    "                                       not_category_name='Men',\n",
    "                                       width_in_pixels=1000,\n",
    "                                       minimum_term_frequency=4,\n",
    "                                       pmi_threshold_coefficient=6,\n",
    "                                       term_ranker=st.OncePerDocFrequencyRanker,\n",
    "                                       metadata= df_mf['meta'])\n",
    "file_name = 'authors_gender.html'\n",
    "with open(file_name, 'wb') as fn:\n",
    "    fn.write(html.encode('utf-8'))"
   ]
  },
  {
   "cell_type": "code",
   "execution_count": 30,
   "metadata": {},
   "outputs": [
    {
     "data": {
      "text/html": [
       "<iframe width=100% height=800 name=\"iframe\" src=\"authors_gender.html\"></iframe>"
      ],
      "text/plain": [
       "<IPython.core.display.HTML object>"
      ]
     },
     "metadata": {},
     "output_type": "display_data"
    }
   ],
   "source": [
    "%%HTML\n",
    "<iframe width=100% height=800 name=\"iframe\" src=\"authors_gender.html\"></iframe>"
   ]
  },
  {
   "cell_type": "code",
   "execution_count": null,
   "metadata": {
    "collapsed": true
   },
   "outputs": [],
   "source": []
  }
 ],
 "metadata": {
  "anaconda-cloud": {},
  "kernelspec": {
   "display_name": "Python [Root]",
   "language": "python",
   "name": "Python [Root]"
  },
  "language_info": {
   "codemirror_mode": {
    "name": "ipython",
    "version": 3
   },
   "file_extension": ".py",
   "mimetype": "text/x-python",
   "name": "python",
   "nbconvert_exporter": "python",
   "pygments_lexer": "ipython3",
   "version": "3.5.2"
  }
 },
 "nbformat": 4,
 "nbformat_minor": 2
}
